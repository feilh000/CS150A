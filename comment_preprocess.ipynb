{
 "cells": [
  {
   "cell_type": "code",
   "execution_count": 7,
   "metadata": {},
   "outputs": [],
   "source": [
    "import json\n",
    "import sys\n",
    "import pandas as pd"
   ]
  },
  {
   "cell_type": "code",
   "execution_count": null,
   "metadata": {},
   "outputs": [],
   "source": [
    "review_path = 'yelp_dataset/review.json'\n",
    "tmp = pd.read_json(review_path, lines=True, chunksize=100000)\n",
    "df_list = []\n",
    "for df in tmp:\n",
    "    df_list.append(df)\n",
    "review_df = pd.concat(df_list)\n",
    "review_df"
   ]
  },
  {
   "cell_type": "code",
   "execution_count": null,
   "metadata": {},
   "outputs": [],
   "source": [
    "service = pd.read_csv('train_data/services.csv')\n",
    "service = service.iloc[:,1:]\n",
    "sel_review = review_df[review_df['business_id'].isin(service['business_id'])]"
   ]
  },
  {
   "cell_type": "code",
   "execution_count": null,
   "metadata": {},
   "outputs": [],
   "source": [
    "sort_review = sel_review.sort_values(by=['date'])\n",
    "sort_review = pd.DataFrame(sort_review, columns=['business_id','user_id', 'text'])\n",
    "sort_review = pd.merge(sort_review, service, how='left', on='business_id')\n",
    "sort_review"
   ]
  },
  {
   "cell_type": "code",
   "execution_count": null,
   "metadata": {},
   "outputs": [],
   "source": [
    "sort_review.to_csv('train_data/before_comment.csv')"
   ]
  },
  {
   "cell_type": "code",
   "execution_count": null,
   "metadata": {},
   "outputs": [],
   "source": []
  }
 ],
 "metadata": {
  "kernelspec": {
   "display_name": "Python 3",
   "language": "python",
   "name": "python3"
  },
  "language_info": {
   "codemirror_mode": {
    "name": "ipython",
    "version": 3
   },
   "file_extension": ".py",
   "mimetype": "text/x-python",
   "name": "python",
   "nbconvert_exporter": "python",
   "pygments_lexer": "ipython3",
   "version": "3.7.4"
  }
 },
 "nbformat": 4,
 "nbformat_minor": 5
}
