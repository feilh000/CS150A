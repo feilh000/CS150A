{
 "cells": [
  {
   "cell_type": "code",
   "execution_count": 1,
   "metadata": {},
   "outputs": [],
   "source": [
    "import json\n",
    "import sys\n",
    "import time\n",
    "import pandas as pd"
   ]
  },
  {
   "cell_type": "code",
   "execution_count": 2,
   "metadata": {},
   "outputs": [
    {
     "name": "stdout",
     "output_type": "stream",
     "text": [
      "#all restaurants:  150346\n",
      "AB: 5573\n",
      "AZ: 9912\n",
      "CA: 5203\n",
      "CO: 3\n",
      "DE: 2265\n",
      "FL: 26330\n",
      "HI: 2\n",
      "ID: 4467\n",
      "IL: 2145\n",
      "IN: 11247\n",
      "LA: 9924\n",
      "MA: 2\n",
      "MI: 1\n",
      "MO: 10913\n",
      "MT: 1\n",
      "NC: 1\n",
      "NJ: 8536\n",
      "NV: 7715\n",
      "PA: 34039\n",
      "SD: 1\n",
      "TN: 12056\n",
      "TX: 4\n",
      "UT: 1\n",
      "VI: 1\n",
      "VT: 1\n",
      "WA: 2\n",
      "XMS: 1\n",
      "#selected restaurants:  8209\n",
      "#selected users:  726519\n",
      "time: 232.46776294708252\n"
     ]
    }
   ],
   "source": [
    "if __name__ == '__main__':\n",
    "    start = time.time()\n",
    "    business_path = './yelp_dataset/business.json'\n",
    "    user_path = './yelp_dataset/user.json'\n",
    "    review_path = './yelp_dataset/review.json'\n",
    "\n",
    "    business = pd.read_json(business_path, lines=True)\n",
    "    print('#all restaurants: ', business.shape[0])\n",
    "\n",
    "    state_groups = dict(list(business.groupby('state')))\n",
    "    for key, value in state_groups.items():\n",
    "        print(key + ': ' + str(value.shape[0]))\n",
    "\n",
    "    sel_business = state_groups['TN']\n",
    "    sel_business = sel_business[sel_business['review_count'] >= 10]\n",
    "    sel_business = pd.DataFrame(sel_business, columns=['business_id', 'average_stars', 'review_count'])\n",
    "    print('#selected restaurants: ', sel_business.shape[0])\n",
    "    sel_business.to_csv('./selected_data/business.csv')\n",
    "\n",
    "    user = pd.read_json(user_path, lines=True)\n",
    "    sel_user = user[user['review_count'] >= 10]\n",
    "    sel_user = pd.DataFrame(sel_user, columns=['user_id', 'stars', 'review_count', 'attributes', 'categories'])\n",
    "    print('#selected users: ', sel_user.shape[0])\n",
    "    sel_user.to_csv('./selected_data/user.csv')\n",
    "\n",
    "    end = time.time()\n",
    "    print('time: ' + str(end-start))"
   ]
  },
  {
   "cell_type": "code",
   "execution_count": null,
   "metadata": {},
   "outputs": [],
   "source": []
  },
  {
   "cell_type": "code",
   "execution_count": null,
   "metadata": {},
   "outputs": [],
   "source": []
  }
 ],
 "metadata": {
  "interpreter": {
   "hash": "afe612ffc7409e60c6388441be73c6003a91ffa94d5a938e9b8869dfa9532966"
  },
  "kernelspec": {
   "display_name": "Python 3",
   "language": "python",
   "name": "python3"
  },
  "language_info": {
   "codemirror_mode": {
    "name": "ipython",
    "version": 3
   },
   "file_extension": ".py",
   "mimetype": "text/x-python",
   "name": "python",
   "nbconvert_exporter": "python",
   "pygments_lexer": "ipython3",
   "version": "3.7.4"
  }
 },
 "nbformat": 4,
 "nbformat_minor": 5
}
